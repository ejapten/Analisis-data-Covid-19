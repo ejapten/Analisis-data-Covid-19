{
  "nbformat": 4,
  "nbformat_minor": 0,
  "metadata": {
    "colab": {
      "provenance": []
    },
    "kernelspec": {
      "name": "python3",
      "display_name": "Python 3"
    },
    "language_info": {
      "name": "python"
    }
  },
  "cells": [
    {
      "cell_type": "markdown",
      "source": [
        "# **1. Import Library**"
      ],
      "metadata": {
        "id": "fKADPWcFKlj3"
      }
    },
    {
      "cell_type": "code",
      "source": [
        "from google.colab import drive\n",
        "drive.mount('/content/drive')"
      ],
      "metadata": {
        "id": "EtzsGZ77JIf6",
        "outputId": "4f4833e0-4c30-4fe5-d214-98835cee3a8f",
        "colab": {
          "base_uri": "https://localhost:8080/"
        }
      },
      "execution_count": 1,
      "outputs": [
        {
          "output_type": "stream",
          "name": "stdout",
          "text": [
            "Mounted at /content/drive\n"
          ]
        }
      ]
    },
    {
      "cell_type": "code",
      "source": [
        "import pandas as pd\n",
        "import numpy as np\n",
        "from sklearn.model_selection import train_test_split\n",
        "from sklearn.tree import DecisionTreeClassifier\n",
        "from sklearn.ensemble import RandomForestClassifier\n",
        "from sklearn.preprocessing import LabelEncoder\n",
        "from sklearn.metrics import accuracy_score, precision_score, recall_score, f1_score\n",
        "from sklearn.metrics import confusion_matrix\n",
        "import seaborn as sns\n",
        "import matplotlib.pyplot as plt\n",
        "from sklearn.model_selection import RandomizedSearchCV\n",
        "from sklearn.metrics import mean_squared_error\n",
        "import time\n",
        "import warnings"
      ],
      "metadata": {
        "id": "_yQNRhYwJwlc"
      },
      "execution_count": 35,
      "outputs": []
    },
    {
      "cell_type": "markdown",
      "source": [
        "# **2. Memuat Dataset dari Hasil Clustering**"
      ],
      "metadata": {
        "id": "f3YIEnAFKrKL"
      }
    },
    {
      "cell_type": "markdown",
      "source": [
        "Memuat dataset hasil clustering dari file CSV ke dalam variabel DataFrame."
      ],
      "metadata": {
        "id": "Ey3ItwTen_7E"
      }
    },
    {
      "cell_type": "code",
      "source": [
        "data_covid = pd.read_csv(\"/content/drive/MyDrive/Study Independent/Machine Learning - DBS FOUNDATION/9. Machine Learning untuk Pemula/proyek ML /covid_inverse.csv\")"
      ],
      "metadata": {
        "id": "GHCGNTyrM5fS"
      },
      "execution_count": 11,
      "outputs": []
    },
    {
      "cell_type": "code",
      "source": [
        "data_covid.head(5)"
      ],
      "metadata": {
        "colab": {
          "base_uri": "https://localhost:8080/",
          "height": 278
        },
        "id": "4l-UPdkpKluP",
        "outputId": "4bd5b623-aeea-4a75-a1e4-e056fb611845"
      },
      "execution_count": 4,
      "outputs": [
        {
          "output_type": "execute_result",
          "data": {
            "text/plain": [
              "   New Cases  New Deaths  New Recovered  New Active Cases  Total Cases  \\\n",
              "0        2.0         0.0            0.0               2.0         41.0   \n",
              "1        2.0         0.0            0.0               2.0         43.0   \n",
              "2        0.0         0.0            0.0               0.0          1.0   \n",
              "3        2.0         0.0            0.0               2.0         45.0   \n",
              "4        1.0         0.0            0.0               1.0          2.0   \n",
              "\n",
              "   Total Deaths  Total Recovered  Total Active Cases    Island  Population  \\\n",
              "0          20.0             75.0               -54.0      Jawa    5.345298   \n",
              "1          20.0             75.0               -52.0      Jawa    5.345298   \n",
              "2           0.0              1.0                 0.0  Sumatera    3.222783   \n",
              "3          20.0             75.0               -50.0      Jawa    5.345298   \n",
              "4           1.0             60.0               -59.0      Jawa    8.920180   \n",
              "\n",
              "   New Cases per Million  Total Cases per Million  New Deaths per Million  \\\n",
              "0           2.032821e+06                -3.529700             3006.040499   \n",
              "1           2.032821e+06                -3.529323             3006.040499   \n",
              "2           1.989004e+06                -3.537292             3006.040499   \n",
              "3           2.032821e+06                -3.528924             3006.040499   \n",
              "4           1.993872e+06                -3.537544             3006.040499   \n",
              "\n",
              "   Total Deaths per Million  Case Fatality Rate  Case Recovered Rate  \\\n",
              "0                 -0.131017         1277.004067             0.140814   \n",
              "1                 -0.131017         1226.099028             0.131753   \n",
              "2                 -0.134227          183.106354             0.052519   \n",
              "3                 -0.131017         1179.679014             0.123502   \n",
              "4                 -0.134192         1304.362722             3.140106   \n",
              "\n",
              "   Growth Factor of New Cases  Growth Factor of New Deaths  Cluster  \n",
              "0                    0.815143                     1.214833        0  \n",
              "1                    0.815143                     1.214833        0  \n",
              "2                   -1.046865                     1.214833        0  \n",
              "3                    0.815143                     1.214833        0  \n",
              "4                    0.815143                    -0.129836        0  "
            ],
            "text/html": [
              "\n",
              "  <div id=\"df-769fadc2-583e-41c8-b200-5bd477ffce23\" class=\"colab-df-container\">\n",
              "    <div>\n",
              "<style scoped>\n",
              "    .dataframe tbody tr th:only-of-type {\n",
              "        vertical-align: middle;\n",
              "    }\n",
              "\n",
              "    .dataframe tbody tr th {\n",
              "        vertical-align: top;\n",
              "    }\n",
              "\n",
              "    .dataframe thead th {\n",
              "        text-align: right;\n",
              "    }\n",
              "</style>\n",
              "<table border=\"1\" class=\"dataframe\">\n",
              "  <thead>\n",
              "    <tr style=\"text-align: right;\">\n",
              "      <th></th>\n",
              "      <th>New Cases</th>\n",
              "      <th>New Deaths</th>\n",
              "      <th>New Recovered</th>\n",
              "      <th>New Active Cases</th>\n",
              "      <th>Total Cases</th>\n",
              "      <th>Total Deaths</th>\n",
              "      <th>Total Recovered</th>\n",
              "      <th>Total Active Cases</th>\n",
              "      <th>Island</th>\n",
              "      <th>Population</th>\n",
              "      <th>New Cases per Million</th>\n",
              "      <th>Total Cases per Million</th>\n",
              "      <th>New Deaths per Million</th>\n",
              "      <th>Total Deaths per Million</th>\n",
              "      <th>Case Fatality Rate</th>\n",
              "      <th>Case Recovered Rate</th>\n",
              "      <th>Growth Factor of New Cases</th>\n",
              "      <th>Growth Factor of New Deaths</th>\n",
              "      <th>Cluster</th>\n",
              "    </tr>\n",
              "  </thead>\n",
              "  <tbody>\n",
              "    <tr>\n",
              "      <th>0</th>\n",
              "      <td>2.0</td>\n",
              "      <td>0.0</td>\n",
              "      <td>0.0</td>\n",
              "      <td>2.0</td>\n",
              "      <td>41.0</td>\n",
              "      <td>20.0</td>\n",
              "      <td>75.0</td>\n",
              "      <td>-54.0</td>\n",
              "      <td>Jawa</td>\n",
              "      <td>5.345298</td>\n",
              "      <td>2.032821e+06</td>\n",
              "      <td>-3.529700</td>\n",
              "      <td>3006.040499</td>\n",
              "      <td>-0.131017</td>\n",
              "      <td>1277.004067</td>\n",
              "      <td>0.140814</td>\n",
              "      <td>0.815143</td>\n",
              "      <td>1.214833</td>\n",
              "      <td>0</td>\n",
              "    </tr>\n",
              "    <tr>\n",
              "      <th>1</th>\n",
              "      <td>2.0</td>\n",
              "      <td>0.0</td>\n",
              "      <td>0.0</td>\n",
              "      <td>2.0</td>\n",
              "      <td>43.0</td>\n",
              "      <td>20.0</td>\n",
              "      <td>75.0</td>\n",
              "      <td>-52.0</td>\n",
              "      <td>Jawa</td>\n",
              "      <td>5.345298</td>\n",
              "      <td>2.032821e+06</td>\n",
              "      <td>-3.529323</td>\n",
              "      <td>3006.040499</td>\n",
              "      <td>-0.131017</td>\n",
              "      <td>1226.099028</td>\n",
              "      <td>0.131753</td>\n",
              "      <td>0.815143</td>\n",
              "      <td>1.214833</td>\n",
              "      <td>0</td>\n",
              "    </tr>\n",
              "    <tr>\n",
              "      <th>2</th>\n",
              "      <td>0.0</td>\n",
              "      <td>0.0</td>\n",
              "      <td>0.0</td>\n",
              "      <td>0.0</td>\n",
              "      <td>1.0</td>\n",
              "      <td>0.0</td>\n",
              "      <td>1.0</td>\n",
              "      <td>0.0</td>\n",
              "      <td>Sumatera</td>\n",
              "      <td>3.222783</td>\n",
              "      <td>1.989004e+06</td>\n",
              "      <td>-3.537292</td>\n",
              "      <td>3006.040499</td>\n",
              "      <td>-0.134227</td>\n",
              "      <td>183.106354</td>\n",
              "      <td>0.052519</td>\n",
              "      <td>-1.046865</td>\n",
              "      <td>1.214833</td>\n",
              "      <td>0</td>\n",
              "    </tr>\n",
              "    <tr>\n",
              "      <th>3</th>\n",
              "      <td>2.0</td>\n",
              "      <td>0.0</td>\n",
              "      <td>0.0</td>\n",
              "      <td>2.0</td>\n",
              "      <td>45.0</td>\n",
              "      <td>20.0</td>\n",
              "      <td>75.0</td>\n",
              "      <td>-50.0</td>\n",
              "      <td>Jawa</td>\n",
              "      <td>5.345298</td>\n",
              "      <td>2.032821e+06</td>\n",
              "      <td>-3.528924</td>\n",
              "      <td>3006.040499</td>\n",
              "      <td>-0.131017</td>\n",
              "      <td>1179.679014</td>\n",
              "      <td>0.123502</td>\n",
              "      <td>0.815143</td>\n",
              "      <td>1.214833</td>\n",
              "      <td>0</td>\n",
              "    </tr>\n",
              "    <tr>\n",
              "      <th>4</th>\n",
              "      <td>1.0</td>\n",
              "      <td>0.0</td>\n",
              "      <td>0.0</td>\n",
              "      <td>1.0</td>\n",
              "      <td>2.0</td>\n",
              "      <td>1.0</td>\n",
              "      <td>60.0</td>\n",
              "      <td>-59.0</td>\n",
              "      <td>Jawa</td>\n",
              "      <td>8.920180</td>\n",
              "      <td>1.993872e+06</td>\n",
              "      <td>-3.537544</td>\n",
              "      <td>3006.040499</td>\n",
              "      <td>-0.134192</td>\n",
              "      <td>1304.362722</td>\n",
              "      <td>3.140106</td>\n",
              "      <td>0.815143</td>\n",
              "      <td>-0.129836</td>\n",
              "      <td>0</td>\n",
              "    </tr>\n",
              "  </tbody>\n",
              "</table>\n",
              "</div>\n",
              "    <div class=\"colab-df-buttons\">\n",
              "\n",
              "  <div class=\"colab-df-container\">\n",
              "    <button class=\"colab-df-convert\" onclick=\"convertToInteractive('df-769fadc2-583e-41c8-b200-5bd477ffce23')\"\n",
              "            title=\"Convert this dataframe to an interactive table.\"\n",
              "            style=\"display:none;\">\n",
              "\n",
              "  <svg xmlns=\"http://www.w3.org/2000/svg\" height=\"24px\" viewBox=\"0 -960 960 960\">\n",
              "    <path d=\"M120-120v-720h720v720H120Zm60-500h600v-160H180v160Zm220 220h160v-160H400v160Zm0 220h160v-160H400v160ZM180-400h160v-160H180v160Zm440 0h160v-160H620v160ZM180-180h160v-160H180v160Zm440 0h160v-160H620v160Z\"/>\n",
              "  </svg>\n",
              "    </button>\n",
              "\n",
              "  <style>\n",
              "    .colab-df-container {\n",
              "      display:flex;\n",
              "      gap: 12px;\n",
              "    }\n",
              "\n",
              "    .colab-df-convert {\n",
              "      background-color: #E8F0FE;\n",
              "      border: none;\n",
              "      border-radius: 50%;\n",
              "      cursor: pointer;\n",
              "      display: none;\n",
              "      fill: #1967D2;\n",
              "      height: 32px;\n",
              "      padding: 0 0 0 0;\n",
              "      width: 32px;\n",
              "    }\n",
              "\n",
              "    .colab-df-convert:hover {\n",
              "      background-color: #E2EBFA;\n",
              "      box-shadow: 0px 1px 2px rgba(60, 64, 67, 0.3), 0px 1px 3px 1px rgba(60, 64, 67, 0.15);\n",
              "      fill: #174EA6;\n",
              "    }\n",
              "\n",
              "    .colab-df-buttons div {\n",
              "      margin-bottom: 4px;\n",
              "    }\n",
              "\n",
              "    [theme=dark] .colab-df-convert {\n",
              "      background-color: #3B4455;\n",
              "      fill: #D2E3FC;\n",
              "    }\n",
              "\n",
              "    [theme=dark] .colab-df-convert:hover {\n",
              "      background-color: #434B5C;\n",
              "      box-shadow: 0px 1px 3px 1px rgba(0, 0, 0, 0.15);\n",
              "      filter: drop-shadow(0px 1px 2px rgba(0, 0, 0, 0.3));\n",
              "      fill: #FFFFFF;\n",
              "    }\n",
              "  </style>\n",
              "\n",
              "    <script>\n",
              "      const buttonEl =\n",
              "        document.querySelector('#df-769fadc2-583e-41c8-b200-5bd477ffce23 button.colab-df-convert');\n",
              "      buttonEl.style.display =\n",
              "        google.colab.kernel.accessAllowed ? 'block' : 'none';\n",
              "\n",
              "      async function convertToInteractive(key) {\n",
              "        const element = document.querySelector('#df-769fadc2-583e-41c8-b200-5bd477ffce23');\n",
              "        const dataTable =\n",
              "          await google.colab.kernel.invokeFunction('convertToInteractive',\n",
              "                                                    [key], {});\n",
              "        if (!dataTable) return;\n",
              "\n",
              "        const docLinkHtml = 'Like what you see? Visit the ' +\n",
              "          '<a target=\"_blank\" href=https://colab.research.google.com/notebooks/data_table.ipynb>data table notebook</a>'\n",
              "          + ' to learn more about interactive tables.';\n",
              "        element.innerHTML = '';\n",
              "        dataTable['output_type'] = 'display_data';\n",
              "        await google.colab.output.renderOutput(dataTable, element);\n",
              "        const docLink = document.createElement('div');\n",
              "        docLink.innerHTML = docLinkHtml;\n",
              "        element.appendChild(docLink);\n",
              "      }\n",
              "    </script>\n",
              "  </div>\n",
              "\n",
              "\n",
              "<div id=\"df-55591e34-3b2c-4150-9c06-7038fce83310\">\n",
              "  <button class=\"colab-df-quickchart\" onclick=\"quickchart('df-55591e34-3b2c-4150-9c06-7038fce83310')\"\n",
              "            title=\"Suggest charts\"\n",
              "            style=\"display:none;\">\n",
              "\n",
              "<svg xmlns=\"http://www.w3.org/2000/svg\" height=\"24px\"viewBox=\"0 0 24 24\"\n",
              "     width=\"24px\">\n",
              "    <g>\n",
              "        <path d=\"M19 3H5c-1.1 0-2 .9-2 2v14c0 1.1.9 2 2 2h14c1.1 0 2-.9 2-2V5c0-1.1-.9-2-2-2zM9 17H7v-7h2v7zm4 0h-2V7h2v10zm4 0h-2v-4h2v4z\"/>\n",
              "    </g>\n",
              "</svg>\n",
              "  </button>\n",
              "\n",
              "<style>\n",
              "  .colab-df-quickchart {\n",
              "      --bg-color: #E8F0FE;\n",
              "      --fill-color: #1967D2;\n",
              "      --hover-bg-color: #E2EBFA;\n",
              "      --hover-fill-color: #174EA6;\n",
              "      --disabled-fill-color: #AAA;\n",
              "      --disabled-bg-color: #DDD;\n",
              "  }\n",
              "\n",
              "  [theme=dark] .colab-df-quickchart {\n",
              "      --bg-color: #3B4455;\n",
              "      --fill-color: #D2E3FC;\n",
              "      --hover-bg-color: #434B5C;\n",
              "      --hover-fill-color: #FFFFFF;\n",
              "      --disabled-bg-color: #3B4455;\n",
              "      --disabled-fill-color: #666;\n",
              "  }\n",
              "\n",
              "  .colab-df-quickchart {\n",
              "    background-color: var(--bg-color);\n",
              "    border: none;\n",
              "    border-radius: 50%;\n",
              "    cursor: pointer;\n",
              "    display: none;\n",
              "    fill: var(--fill-color);\n",
              "    height: 32px;\n",
              "    padding: 0;\n",
              "    width: 32px;\n",
              "  }\n",
              "\n",
              "  .colab-df-quickchart:hover {\n",
              "    background-color: var(--hover-bg-color);\n",
              "    box-shadow: 0 1px 2px rgba(60, 64, 67, 0.3), 0 1px 3px 1px rgba(60, 64, 67, 0.15);\n",
              "    fill: var(--button-hover-fill-color);\n",
              "  }\n",
              "\n",
              "  .colab-df-quickchart-complete:disabled,\n",
              "  .colab-df-quickchart-complete:disabled:hover {\n",
              "    background-color: var(--disabled-bg-color);\n",
              "    fill: var(--disabled-fill-color);\n",
              "    box-shadow: none;\n",
              "  }\n",
              "\n",
              "  .colab-df-spinner {\n",
              "    border: 2px solid var(--fill-color);\n",
              "    border-color: transparent;\n",
              "    border-bottom-color: var(--fill-color);\n",
              "    animation:\n",
              "      spin 1s steps(1) infinite;\n",
              "  }\n",
              "\n",
              "  @keyframes spin {\n",
              "    0% {\n",
              "      border-color: transparent;\n",
              "      border-bottom-color: var(--fill-color);\n",
              "      border-left-color: var(--fill-color);\n",
              "    }\n",
              "    20% {\n",
              "      border-color: transparent;\n",
              "      border-left-color: var(--fill-color);\n",
              "      border-top-color: var(--fill-color);\n",
              "    }\n",
              "    30% {\n",
              "      border-color: transparent;\n",
              "      border-left-color: var(--fill-color);\n",
              "      border-top-color: var(--fill-color);\n",
              "      border-right-color: var(--fill-color);\n",
              "    }\n",
              "    40% {\n",
              "      border-color: transparent;\n",
              "      border-right-color: var(--fill-color);\n",
              "      border-top-color: var(--fill-color);\n",
              "    }\n",
              "    60% {\n",
              "      border-color: transparent;\n",
              "      border-right-color: var(--fill-color);\n",
              "    }\n",
              "    80% {\n",
              "      border-color: transparent;\n",
              "      border-right-color: var(--fill-color);\n",
              "      border-bottom-color: var(--fill-color);\n",
              "    }\n",
              "    90% {\n",
              "      border-color: transparent;\n",
              "      border-bottom-color: var(--fill-color);\n",
              "    }\n",
              "  }\n",
              "</style>\n",
              "\n",
              "  <script>\n",
              "    async function quickchart(key) {\n",
              "      const quickchartButtonEl =\n",
              "        document.querySelector('#' + key + ' button');\n",
              "      quickchartButtonEl.disabled = true;  // To prevent multiple clicks.\n",
              "      quickchartButtonEl.classList.add('colab-df-spinner');\n",
              "      try {\n",
              "        const charts = await google.colab.kernel.invokeFunction(\n",
              "            'suggestCharts', [key], {});\n",
              "      } catch (error) {\n",
              "        console.error('Error during call to suggestCharts:', error);\n",
              "      }\n",
              "      quickchartButtonEl.classList.remove('colab-df-spinner');\n",
              "      quickchartButtonEl.classList.add('colab-df-quickchart-complete');\n",
              "    }\n",
              "    (() => {\n",
              "      let quickchartButtonEl =\n",
              "        document.querySelector('#df-55591e34-3b2c-4150-9c06-7038fce83310 button');\n",
              "      quickchartButtonEl.style.display =\n",
              "        google.colab.kernel.accessAllowed ? 'block' : 'none';\n",
              "    })();\n",
              "  </script>\n",
              "</div>\n",
              "\n",
              "    </div>\n",
              "  </div>\n"
            ],
            "application/vnd.google.colaboratory.intrinsic+json": {
              "type": "dataframe",
              "variable_name": "data_covid",
              "summary": "{\n  \"name\": \"data_covid\",\n  \"rows\": 24880,\n  \"fields\": [\n    {\n      \"column\": \"New Cases\",\n      \"properties\": {\n        \"dtype\": \"number\",\n        \"std\": 125.58916714426158,\n        \"min\": 0.0,\n        \"max\": 356.5,\n        \"num_unique_values\": 358,\n        \"samples\": [\n          150.0,\n          30.0,\n          139.0\n        ],\n        \"semantic_type\": \"\",\n        \"description\": \"\"\n      }\n    },\n    {\n      \"column\": \"New Deaths\",\n      \"properties\": {\n        \"dtype\": \"number\",\n        \"std\": 3.5360015548937853,\n        \"min\": 0.0,\n        \"max\": 10.0,\n        \"num_unique_values\": 11,\n        \"samples\": [\n          7.0,\n          0.0,\n          5.0\n        ],\n        \"semantic_type\": \"\",\n        \"description\": \"\"\n      }\n    },\n    {\n      \"column\": \"New Recovered\",\n      \"properties\": {\n        \"dtype\": \"number\",\n        \"std\": 122.9848400873284,\n        \"min\": 0.0,\n        \"max\": 345.5,\n        \"num_unique_values\": 347,\n        \"samples\": [\n          200.0,\n          154.0,\n          225.0\n        ],\n        \"semantic_type\": \"\",\n        \"description\": \"\"\n      }\n    },\n    {\n      \"column\": \"New Active Cases\",\n      \"properties\": {\n        \"dtype\": \"number\",\n        \"std\": 43.57416993946719,\n        \"min\": -70.5,\n        \"max\": 77.5,\n        \"num_unique_values\": 150,\n        \"samples\": [\n          -42.0,\n          55.00000000000001,\n          -32.0\n        ],\n        \"semantic_type\": \"\",\n        \"description\": \"\"\n      }\n    },\n    {\n      \"column\": \"Total Cases\",\n      \"properties\": {\n        \"dtype\": \"number\",\n        \"std\": 55959.58738098113,\n        \"min\": 1.0,\n        \"max\": 166177.625,\n        \"num_unique_values\": 16776,\n        \"samples\": [\n          43050.0,\n          3739.0,\n          104273.0\n        ],\n        \"semantic_type\": \"\",\n        \"description\": \"\"\n      }\n    },\n    {\n      \"column\": \"Total Deaths\",\n      \"properties\": {\n        \"dtype\": \"number\",\n        \"std\": 1733.4324188133535,\n        \"min\": 0.0,\n        \"max\": 5288.5,\n        \"num_unique_values\": 3482,\n        \"samples\": [\n          4906.0,\n          2994.0,\n          901.0\n        ],\n        \"semantic_type\": \"\",\n        \"description\": \"\"\n      }\n    },\n    {\n      \"column\": \"Total Recovered\",\n      \"properties\": {\n        \"dtype\": \"number\",\n        \"std\": 52987.69323485422,\n        \"min\": 0.0,\n        \"max\": 156701.75,\n        \"num_unique_values\": 15491,\n        \"samples\": [\n          3838.0,\n          34242.0,\n          32809.0\n        ],\n        \"semantic_type\": \"\",\n        \"description\": \"\"\n      }\n    },\n    {\n      \"column\": \"Total Active Cases\",\n      \"properties\": {\n        \"dtype\": \"number\",\n        \"std\": 2033.266851239302,\n        \"min\": -2343.0,\n        \"max\": 5913.125,\n        \"num_unique_values\": 4485,\n        \"samples\": [\n          271.0,\n          4799.0,\n          2959.0\n        ],\n        \"semantic_type\": \"\",\n        \"description\": \"\"\n      }\n    },\n    {\n      \"column\": \"Island\",\n      \"properties\": {\n        \"dtype\": \"category\",\n        \"num_unique_values\": 7,\n        \"samples\": [\n          \"Jawa\",\n          \"Sumatera\",\n          \"Maluku\"\n        ],\n        \"semantic_type\": \"\",\n        \"description\": \"\"\n      }\n    },\n    {\n      \"column\": \"Population\",\n      \"properties\": {\n        \"dtype\": \"number\",\n        \"std\": 2.3857084864380353,\n        \"min\": 0.809538665836345,\n        \"max\": 8.920179901357564,\n        \"num_unique_values\": 32,\n        \"samples\": [\n          2.865244969988674,\n          4.176149590887142,\n          1.2149907337617316\n        ],\n        \"semantic_type\": \"\",\n        \"description\": \"\"\n      }\n    },\n    {\n      \"column\": \"New Cases per Million\",\n      \"properties\": {\n        \"dtype\": \"number\",\n        \"std\": 5363783.186676796,\n        \"min\": 1989003.9712594424,\n        \"max\": 17455710.038954027,\n        \"num_unique_values\": 3622,\n        \"samples\": [\n          10394518.203287676,\n          5616057.607437279,\n          7062010.5335377045\n        ],\n        \"semantic_type\": \"\",\n        \"description\": \"\"\n      }\n    },\n    {\n      \"column\": \"Total Cases per Million\",\n      \"properties\": {\n        \"dtype\": \"number\",\n        \"std\": 22.034515476784858,\n        \"min\": -3.537565134531576,\n        \"max\": 69.49576731052723,\n        \"num_unique_values\": 20384,\n        \"samples\": [\n          55.22899232137715,\n          -1.6219423123214227,\n          -0.1634608060410975\n        ],\n        \"semantic_type\": \"\",\n        \"description\": \"\"\n      }\n    },\n    {\n      \"column\": \"New Deaths per Million\",\n      \"properties\": {\n        \"dtype\": \"number\",\n        \"std\": 10506.298973885967,\n        \"min\": 3006.040499285202,\n        \"max\": 32086.340645071505,\n        \"num_unique_values\": 126,\n        \"samples\": [\n          19291.00858092553,\n          18656.529305017462,\n          14215.174373661011\n        ],\n        \"semantic_type\": \"\",\n        \"description\": \"\"\n      }\n    },\n    {\n      \"column\": \"Total Deaths per Million\",\n      \"properties\": {\n        \"dtype\": \"number\",\n        \"std\": 0.4967679500098605,\n        \"min\": -0.1342273767517112,\n        \"max\": 1.4442607406753227,\n        \"num_unique_values\": 10256,\n        \"samples\": [\n          -0.0833903582054652,\n          0.5538692895149437,\n          0.9171603239030788\n        ],\n        \"semantic_type\": \"\",\n        \"description\": \"\"\n      }\n    },\n    {\n      \"column\": \"Case Fatality Rate\",\n      \"properties\": {\n        \"dtype\": \"number\",\n        \"std\": 284.7495482080522,\n        \"min\": 183.10635383552776,\n        \"max\": 22608.233720827902,\n        \"num_unique_values\": 1234,\n        \"samples\": [\n          210.46500922325845,\n          201.94346082380133,\n          356.67683965604874\n        ],\n        \"semantic_type\": \"\",\n        \"description\": \"\"\n      }\n    },\n    {\n      \"column\": \"Case Recovered Rate\",\n      \"properties\": {\n        \"dtype\": \"number\",\n        \"std\": 0.1269778956204187,\n        \"min\": -0.0539490549785434,\n        \"max\": 11.764052813364474,\n        \"num_unique_values\": 5613,\n        \"samples\": [\n          0.0113374202076542,\n          0.0352289483090611,\n          0.0203765946096571\n        ],\n        \"semantic_type\": \"\",\n        \"description\": \"\"\n      }\n    },\n    {\n      \"column\": \"Growth Factor of New Cases\",\n      \"properties\": {\n        \"dtype\": \"number\",\n        \"std\": 1.1926336254542167,\n        \"min\": -1.046865156369238,\n        \"max\": 3.3195433945371278,\n        \"num_unique_values\": 236,\n        \"samples\": [\n          1.1316840993068586,\n          1.820627026315539,\n          -0.0600009636270745\n        ],\n        \"semantic_type\": \"\",\n        \"description\": \"\"\n      }\n    },\n    {\n      \"column\": \"Growth Factor of New Deaths\",\n      \"properties\": {\n        \"dtype\": \"number\",\n        \"std\": 0.640509429908763,\n        \"min\": -0.1298364011466131,\n        \"max\": 2.0216341258778097,\n        \"num_unique_values\": 134,\n        \"samples\": [\n          0.4650777976139282,\n          0.3020876061726839,\n          0.4487787784698037\n        ],\n        \"semantic_type\": \"\",\n        \"description\": \"\"\n      }\n    },\n    {\n      \"column\": \"Cluster\",\n      \"properties\": {\n        \"dtype\": \"number\",\n        \"std\": 0,\n        \"min\": 0,\n        \"max\": 2,\n        \"num_unique_values\": 3,\n        \"samples\": [\n          0,\n          2,\n          1\n        ],\n        \"semantic_type\": \"\",\n        \"description\": \"\"\n      }\n    }\n  ]\n}"
            }
          },
          "metadata": {},
          "execution_count": 4
        }
      ]
    },
    {
      "cell_type": "code",
      "source": [
        "# Label Encoding pada kolom Island\n",
        "label_encoder = LabelEncoder()\n",
        "data_covid['Island'] = label_encoder.fit_transform(data_covid['Island'])\n"
      ],
      "metadata": {
        "id": "avYaov_vMwPF"
      },
      "execution_count": 14,
      "outputs": []
    },
    {
      "cell_type": "markdown",
      "source": [
        "# **3. Data Splitting**"
      ],
      "metadata": {
        "id": "KkPem5eWL2UP"
      }
    },
    {
      "cell_type": "code",
      "source": [
        "X = data_covid.drop(columns=[\"Cluster\"])\n",
        "y = data_covid[\"Cluster\"]"
      ],
      "metadata": {
        "id": "OubAW-7ONKVj"
      },
      "execution_count": 15,
      "outputs": []
    },
    {
      "cell_type": "code",
      "source": [
        "X_train, X_test, y_train, y_test = train_test_split(X, y, test_size=0.2, random_state=42, stratify=y)"
      ],
      "metadata": {
        "id": "PnolltJpLRAG"
      },
      "execution_count": 16,
      "outputs": []
    },
    {
      "cell_type": "markdown",
      "source": [
        "# **4. Membangun Model Klasifikasi**\n"
      ],
      "metadata": {
        "id": "IVPbB03CMhTT"
      }
    },
    {
      "cell_type": "markdown",
      "source": [
        "## **a. Membangun Model Klasifikasi**"
      ],
      "metadata": {
        "id": "Ned1pL9zMmBK"
      }
    },
    {
      "cell_type": "code",
      "source": [
        "# Untuk Decission Tree\n",
        "dt_model = DecisionTreeClassifier(random_state=42)\n",
        "dt_model.fit(X_train, y_train)\n",
        "\n",
        "# Untuk Random Forest\n",
        "rf_model = RandomForestClassifier(n_estimators=100, random_state=42)\n",
        "rf_model.fit(X_train, y_train)\n",
        "\n",
        "y_pred_dt = dt_model.predict(X_test)\n",
        "y_pred_rf = rf_model.predict(X_test)"
      ],
      "metadata": {
        "id": "4JYxBe87NLDk"
      },
      "execution_count": 17,
      "outputs": []
    },
    {
      "cell_type": "markdown",
      "source": [],
      "metadata": {
        "id": "TAc-aYDcTrVl"
      }
    },
    {
      "cell_type": "markdown",
      "source": [
        "## **b. Evaluasi Model Klasifikasi**"
      ],
      "metadata": {
        "id": "ergzChZFEL-O"
      }
    },
    {
      "cell_type": "code",
      "source": [
        "def metrik(y_test, y_pred, model_name):\n",
        "    return {\n",
        "        \"Model\": model_name,\n",
        "        \"Accuracy\": accuracy_score(y_test, y_pred),\n",
        "        \"Precision\": precision_score(y_test, y_pred, average='macro'),\n",
        "        \"Recall\": recall_score(y_test, y_pred, average='macro'),\n",
        "        \"F1-Score\": f1_score(y_test, y_pred, average='macro')\n",
        "    }\n",
        "\n",
        "hasil_metrik = pd.DataFrame([\n",
        "    metrik(y_test, y_pred_dt, \"Decision Tree\"),\n",
        "    metrik(y_test, y_pred_rf, \"Random Forest\")\n",
        "])\n",
        "\n",
        "hasil_metrik\n"
      ],
      "metadata": {
        "id": "tMq4QAssNLip",
        "colab": {
          "base_uri": "https://localhost:8080/",
          "height": 125
        },
        "outputId": "84c8974f-1417-401b-b1ca-1a34989e75f7"
      },
      "execution_count": 23,
      "outputs": [
        {
          "output_type": "execute_result",
          "data": {
            "text/plain": [
              "           Model  Accuracy  Precision    Recall  F1-Score\n",
              "0  Decision Tree  0.977492   0.972400  0.971633  0.972001\n",
              "1  Random Forest  0.989751   0.987943  0.986310  0.987121"
            ],
            "text/html": [
              "\n",
              "  <div id=\"df-72abab81-e0d5-4271-bef4-3b8536c46007\" class=\"colab-df-container\">\n",
              "    <div>\n",
              "<style scoped>\n",
              "    .dataframe tbody tr th:only-of-type {\n",
              "        vertical-align: middle;\n",
              "    }\n",
              "\n",
              "    .dataframe tbody tr th {\n",
              "        vertical-align: top;\n",
              "    }\n",
              "\n",
              "    .dataframe thead th {\n",
              "        text-align: right;\n",
              "    }\n",
              "</style>\n",
              "<table border=\"1\" class=\"dataframe\">\n",
              "  <thead>\n",
              "    <tr style=\"text-align: right;\">\n",
              "      <th></th>\n",
              "      <th>Model</th>\n",
              "      <th>Accuracy</th>\n",
              "      <th>Precision</th>\n",
              "      <th>Recall</th>\n",
              "      <th>F1-Score</th>\n",
              "    </tr>\n",
              "  </thead>\n",
              "  <tbody>\n",
              "    <tr>\n",
              "      <th>0</th>\n",
              "      <td>Decision Tree</td>\n",
              "      <td>0.977492</td>\n",
              "      <td>0.972400</td>\n",
              "      <td>0.971633</td>\n",
              "      <td>0.972001</td>\n",
              "    </tr>\n",
              "    <tr>\n",
              "      <th>1</th>\n",
              "      <td>Random Forest</td>\n",
              "      <td>0.989751</td>\n",
              "      <td>0.987943</td>\n",
              "      <td>0.986310</td>\n",
              "      <td>0.987121</td>\n",
              "    </tr>\n",
              "  </tbody>\n",
              "</table>\n",
              "</div>\n",
              "    <div class=\"colab-df-buttons\">\n",
              "\n",
              "  <div class=\"colab-df-container\">\n",
              "    <button class=\"colab-df-convert\" onclick=\"convertToInteractive('df-72abab81-e0d5-4271-bef4-3b8536c46007')\"\n",
              "            title=\"Convert this dataframe to an interactive table.\"\n",
              "            style=\"display:none;\">\n",
              "\n",
              "  <svg xmlns=\"http://www.w3.org/2000/svg\" height=\"24px\" viewBox=\"0 -960 960 960\">\n",
              "    <path d=\"M120-120v-720h720v720H120Zm60-500h600v-160H180v160Zm220 220h160v-160H400v160Zm0 220h160v-160H400v160ZM180-400h160v-160H180v160Zm440 0h160v-160H620v160ZM180-180h160v-160H180v160Zm440 0h160v-160H620v160Z\"/>\n",
              "  </svg>\n",
              "    </button>\n",
              "\n",
              "  <style>\n",
              "    .colab-df-container {\n",
              "      display:flex;\n",
              "      gap: 12px;\n",
              "    }\n",
              "\n",
              "    .colab-df-convert {\n",
              "      background-color: #E8F0FE;\n",
              "      border: none;\n",
              "      border-radius: 50%;\n",
              "      cursor: pointer;\n",
              "      display: none;\n",
              "      fill: #1967D2;\n",
              "      height: 32px;\n",
              "      padding: 0 0 0 0;\n",
              "      width: 32px;\n",
              "    }\n",
              "\n",
              "    .colab-df-convert:hover {\n",
              "      background-color: #E2EBFA;\n",
              "      box-shadow: 0px 1px 2px rgba(60, 64, 67, 0.3), 0px 1px 3px 1px rgba(60, 64, 67, 0.15);\n",
              "      fill: #174EA6;\n",
              "    }\n",
              "\n",
              "    .colab-df-buttons div {\n",
              "      margin-bottom: 4px;\n",
              "    }\n",
              "\n",
              "    [theme=dark] .colab-df-convert {\n",
              "      background-color: #3B4455;\n",
              "      fill: #D2E3FC;\n",
              "    }\n",
              "\n",
              "    [theme=dark] .colab-df-convert:hover {\n",
              "      background-color: #434B5C;\n",
              "      box-shadow: 0px 1px 3px 1px rgba(0, 0, 0, 0.15);\n",
              "      filter: drop-shadow(0px 1px 2px rgba(0, 0, 0, 0.3));\n",
              "      fill: #FFFFFF;\n",
              "    }\n",
              "  </style>\n",
              "\n",
              "    <script>\n",
              "      const buttonEl =\n",
              "        document.querySelector('#df-72abab81-e0d5-4271-bef4-3b8536c46007 button.colab-df-convert');\n",
              "      buttonEl.style.display =\n",
              "        google.colab.kernel.accessAllowed ? 'block' : 'none';\n",
              "\n",
              "      async function convertToInteractive(key) {\n",
              "        const element = document.querySelector('#df-72abab81-e0d5-4271-bef4-3b8536c46007');\n",
              "        const dataTable =\n",
              "          await google.colab.kernel.invokeFunction('convertToInteractive',\n",
              "                                                    [key], {});\n",
              "        if (!dataTable) return;\n",
              "\n",
              "        const docLinkHtml = 'Like what you see? Visit the ' +\n",
              "          '<a target=\"_blank\" href=https://colab.research.google.com/notebooks/data_table.ipynb>data table notebook</a>'\n",
              "          + ' to learn more about interactive tables.';\n",
              "        element.innerHTML = '';\n",
              "        dataTable['output_type'] = 'display_data';\n",
              "        await google.colab.output.renderOutput(dataTable, element);\n",
              "        const docLink = document.createElement('div');\n",
              "        docLink.innerHTML = docLinkHtml;\n",
              "        element.appendChild(docLink);\n",
              "      }\n",
              "    </script>\n",
              "  </div>\n",
              "\n",
              "\n",
              "<div id=\"df-fd6ba82b-e0b1-4139-a453-812a2d073cc7\">\n",
              "  <button class=\"colab-df-quickchart\" onclick=\"quickchart('df-fd6ba82b-e0b1-4139-a453-812a2d073cc7')\"\n",
              "            title=\"Suggest charts\"\n",
              "            style=\"display:none;\">\n",
              "\n",
              "<svg xmlns=\"http://www.w3.org/2000/svg\" height=\"24px\"viewBox=\"0 0 24 24\"\n",
              "     width=\"24px\">\n",
              "    <g>\n",
              "        <path d=\"M19 3H5c-1.1 0-2 .9-2 2v14c0 1.1.9 2 2 2h14c1.1 0 2-.9 2-2V5c0-1.1-.9-2-2-2zM9 17H7v-7h2v7zm4 0h-2V7h2v10zm4 0h-2v-4h2v4z\"/>\n",
              "    </g>\n",
              "</svg>\n",
              "  </button>\n",
              "\n",
              "<style>\n",
              "  .colab-df-quickchart {\n",
              "      --bg-color: #E8F0FE;\n",
              "      --fill-color: #1967D2;\n",
              "      --hover-bg-color: #E2EBFA;\n",
              "      --hover-fill-color: #174EA6;\n",
              "      --disabled-fill-color: #AAA;\n",
              "      --disabled-bg-color: #DDD;\n",
              "  }\n",
              "\n",
              "  [theme=dark] .colab-df-quickchart {\n",
              "      --bg-color: #3B4455;\n",
              "      --fill-color: #D2E3FC;\n",
              "      --hover-bg-color: #434B5C;\n",
              "      --hover-fill-color: #FFFFFF;\n",
              "      --disabled-bg-color: #3B4455;\n",
              "      --disabled-fill-color: #666;\n",
              "  }\n",
              "\n",
              "  .colab-df-quickchart {\n",
              "    background-color: var(--bg-color);\n",
              "    border: none;\n",
              "    border-radius: 50%;\n",
              "    cursor: pointer;\n",
              "    display: none;\n",
              "    fill: var(--fill-color);\n",
              "    height: 32px;\n",
              "    padding: 0;\n",
              "    width: 32px;\n",
              "  }\n",
              "\n",
              "  .colab-df-quickchart:hover {\n",
              "    background-color: var(--hover-bg-color);\n",
              "    box-shadow: 0 1px 2px rgba(60, 64, 67, 0.3), 0 1px 3px 1px rgba(60, 64, 67, 0.15);\n",
              "    fill: var(--button-hover-fill-color);\n",
              "  }\n",
              "\n",
              "  .colab-df-quickchart-complete:disabled,\n",
              "  .colab-df-quickchart-complete:disabled:hover {\n",
              "    background-color: var(--disabled-bg-color);\n",
              "    fill: var(--disabled-fill-color);\n",
              "    box-shadow: none;\n",
              "  }\n",
              "\n",
              "  .colab-df-spinner {\n",
              "    border: 2px solid var(--fill-color);\n",
              "    border-color: transparent;\n",
              "    border-bottom-color: var(--fill-color);\n",
              "    animation:\n",
              "      spin 1s steps(1) infinite;\n",
              "  }\n",
              "\n",
              "  @keyframes spin {\n",
              "    0% {\n",
              "      border-color: transparent;\n",
              "      border-bottom-color: var(--fill-color);\n",
              "      border-left-color: var(--fill-color);\n",
              "    }\n",
              "    20% {\n",
              "      border-color: transparent;\n",
              "      border-left-color: var(--fill-color);\n",
              "      border-top-color: var(--fill-color);\n",
              "    }\n",
              "    30% {\n",
              "      border-color: transparent;\n",
              "      border-left-color: var(--fill-color);\n",
              "      border-top-color: var(--fill-color);\n",
              "      border-right-color: var(--fill-color);\n",
              "    }\n",
              "    40% {\n",
              "      border-color: transparent;\n",
              "      border-right-color: var(--fill-color);\n",
              "      border-top-color: var(--fill-color);\n",
              "    }\n",
              "    60% {\n",
              "      border-color: transparent;\n",
              "      border-right-color: var(--fill-color);\n",
              "    }\n",
              "    80% {\n",
              "      border-color: transparent;\n",
              "      border-right-color: var(--fill-color);\n",
              "      border-bottom-color: var(--fill-color);\n",
              "    }\n",
              "    90% {\n",
              "      border-color: transparent;\n",
              "      border-bottom-color: var(--fill-color);\n",
              "    }\n",
              "  }\n",
              "</style>\n",
              "\n",
              "  <script>\n",
              "    async function quickchart(key) {\n",
              "      const quickchartButtonEl =\n",
              "        document.querySelector('#' + key + ' button');\n",
              "      quickchartButtonEl.disabled = true;  // To prevent multiple clicks.\n",
              "      quickchartButtonEl.classList.add('colab-df-spinner');\n",
              "      try {\n",
              "        const charts = await google.colab.kernel.invokeFunction(\n",
              "            'suggestCharts', [key], {});\n",
              "      } catch (error) {\n",
              "        console.error('Error during call to suggestCharts:', error);\n",
              "      }\n",
              "      quickchartButtonEl.classList.remove('colab-df-spinner');\n",
              "      quickchartButtonEl.classList.add('colab-df-quickchart-complete');\n",
              "    }\n",
              "    (() => {\n",
              "      let quickchartButtonEl =\n",
              "        document.querySelector('#df-fd6ba82b-e0b1-4139-a453-812a2d073cc7 button');\n",
              "      quickchartButtonEl.style.display =\n",
              "        google.colab.kernel.accessAllowed ? 'block' : 'none';\n",
              "    })();\n",
              "  </script>\n",
              "</div>\n",
              "\n",
              "  <div id=\"id_3ab45c93-ffb4-4651-b455-29cc9d6f7fd1\">\n",
              "    <style>\n",
              "      .colab-df-generate {\n",
              "        background-color: #E8F0FE;\n",
              "        border: none;\n",
              "        border-radius: 50%;\n",
              "        cursor: pointer;\n",
              "        display: none;\n",
              "        fill: #1967D2;\n",
              "        height: 32px;\n",
              "        padding: 0 0 0 0;\n",
              "        width: 32px;\n",
              "      }\n",
              "\n",
              "      .colab-df-generate:hover {\n",
              "        background-color: #E2EBFA;\n",
              "        box-shadow: 0px 1px 2px rgba(60, 64, 67, 0.3), 0px 1px 3px 1px rgba(60, 64, 67, 0.15);\n",
              "        fill: #174EA6;\n",
              "      }\n",
              "\n",
              "      [theme=dark] .colab-df-generate {\n",
              "        background-color: #3B4455;\n",
              "        fill: #D2E3FC;\n",
              "      }\n",
              "\n",
              "      [theme=dark] .colab-df-generate:hover {\n",
              "        background-color: #434B5C;\n",
              "        box-shadow: 0px 1px 3px 1px rgba(0, 0, 0, 0.15);\n",
              "        filter: drop-shadow(0px 1px 2px rgba(0, 0, 0, 0.3));\n",
              "        fill: #FFFFFF;\n",
              "      }\n",
              "    </style>\n",
              "    <button class=\"colab-df-generate\" onclick=\"generateWithVariable('hasil_metrik')\"\n",
              "            title=\"Generate code using this dataframe.\"\n",
              "            style=\"display:none;\">\n",
              "\n",
              "  <svg xmlns=\"http://www.w3.org/2000/svg\" height=\"24px\"viewBox=\"0 0 24 24\"\n",
              "       width=\"24px\">\n",
              "    <path d=\"M7,19H8.4L18.45,9,17,7.55,7,17.6ZM5,21V16.75L18.45,3.32a2,2,0,0,1,2.83,0l1.4,1.43a1.91,1.91,0,0,1,.58,1.4,1.91,1.91,0,0,1-.58,1.4L9.25,21ZM18.45,9,17,7.55Zm-12,3A5.31,5.31,0,0,0,4.9,8.1,5.31,5.31,0,0,0,1,6.5,5.31,5.31,0,0,0,4.9,4.9,5.31,5.31,0,0,0,6.5,1,5.31,5.31,0,0,0,8.1,4.9,5.31,5.31,0,0,0,12,6.5,5.46,5.46,0,0,0,6.5,12Z\"/>\n",
              "  </svg>\n",
              "    </button>\n",
              "    <script>\n",
              "      (() => {\n",
              "      const buttonEl =\n",
              "        document.querySelector('#id_3ab45c93-ffb4-4651-b455-29cc9d6f7fd1 button.colab-df-generate');\n",
              "      buttonEl.style.display =\n",
              "        google.colab.kernel.accessAllowed ? 'block' : 'none';\n",
              "\n",
              "      buttonEl.onclick = () => {\n",
              "        google.colab.notebook.generateWithVariable('hasil_metrik');\n",
              "      }\n",
              "      })();\n",
              "    </script>\n",
              "  </div>\n",
              "\n",
              "    </div>\n",
              "  </div>\n"
            ],
            "application/vnd.google.colaboratory.intrinsic+json": {
              "type": "dataframe",
              "variable_name": "hasil_metrik",
              "summary": "{\n  \"name\": \"hasil_metrik\",\n  \"rows\": 2,\n  \"fields\": [\n    {\n      \"column\": \"Model\",\n      \"properties\": {\n        \"dtype\": \"string\",\n        \"num_unique_values\": 2,\n        \"samples\": [\n          \"Random Forest\",\n          \"Decision Tree\"\n        ],\n        \"semantic_type\": \"\",\n        \"description\": \"\"\n      }\n    },\n    {\n      \"column\": \"Accuracy\",\n      \"properties\": {\n        \"dtype\": \"number\",\n        \"std\": 0.008668310621458864,\n        \"min\": 0.977491961414791,\n        \"max\": 0.9897508038585209,\n        \"num_unique_values\": 2,\n        \"samples\": [\n          0.9897508038585209,\n          0.977491961414791\n        ],\n        \"semantic_type\": \"\",\n        \"description\": \"\"\n      }\n    },\n    {\n      \"column\": \"Precision\",\n      \"properties\": {\n        \"dtype\": \"number\",\n        \"std\": 0.01099020449346696,\n        \"min\": 0.9724001855840297,\n        \"max\": 0.9879426818319444,\n        \"num_unique_values\": 2,\n        \"samples\": [\n          0.9879426818319444,\n          0.9724001855840297\n        ],\n        \"semantic_type\": \"\",\n        \"description\": \"\"\n      }\n    },\n    {\n      \"column\": \"Recall\",\n      \"properties\": {\n        \"dtype\": \"number\",\n        \"std\": 0.010378286401288343,\n        \"min\": 0.9716327645103296,\n        \"max\": 0.9863098778932239,\n        \"num_unique_values\": 2,\n        \"samples\": [\n          0.9863098778932239,\n          0.9716327645103296\n        ],\n        \"semantic_type\": \"\",\n        \"description\": \"\"\n      }\n    },\n    {\n      \"column\": \"F1-Score\",\n      \"properties\": {\n        \"dtype\": \"number\",\n        \"std\": 0.010691093491546714,\n        \"min\": 0.9720013042872976,\n        \"max\": 0.9871207936996417,\n        \"num_unique_values\": 2,\n        \"samples\": [\n          0.9871207936996417,\n          0.9720013042872976\n        ],\n        \"semantic_type\": \"\",\n        \"description\": \"\"\n      }\n    }\n  ]\n}"
            }
          },
          "metadata": {},
          "execution_count": 23
        }
      ]
    },
    {
      "cell_type": "markdown",
      "source": [
        "Hasil Evaluasi pada algoritma Decision Tree dan Random Forest memperlihatkan bahwa peforma yang sangat baik karena akurasi dan F1-Score diatas 92%.\n",
        "\n",
        "Lalu, Random forest memiliki score metrics yang lebih tinggi dibanginkan Decision Tree"
      ],
      "metadata": {
        "id": "H4_9OwrsXZlz"
      }
    },
    {
      "cell_type": "code",
      "source": [
        "# Buat confusion matrix untuk Decision Tree\n",
        "cm_dt = confusion_matrix(y_test, y_pred_dt)\n",
        "\n",
        "# Buat confusion matrix untuk Random Forest\n",
        "cm_rf = confusion_matrix(y_test, y_pred_rf)\n",
        "\n",
        "# Fungsi untuk menampilkan confusion matrix\n",
        "def plot_confusion_matrix(cm, model_name):\n",
        "    plt.figure(figsize=(6, 4))\n",
        "    sns.heatmap(cm, annot=True, fmt=\"d\", cmap=\"Blues\", xticklabels=set(y_test), yticklabels=set(y_test))\n",
        "    plt.xlabel(\"Predicted Label\")\n",
        "    plt.ylabel(\"True Label\")\n",
        "    plt.title(f\"Confusion Matrix - {model_name}\")\n",
        "    plt.show()\n",
        "\n",
        "# Plot Confusion Matrix untuk kedua model\n",
        "plot_confusion_matrix(cm_dt, \"Decision Tree\")\n",
        "plot_confusion_matrix(cm_rf, \"Random Forest\")"
      ],
      "metadata": {
        "colab": {
          "base_uri": "https://localhost:8080/",
          "height": 803
        },
        "id": "VWSlg49XPHSj",
        "outputId": "58e1880e-d71e-4782-f0b5-3368618c1d83"
      },
      "execution_count": 27,
      "outputs": [
        {
          "output_type": "display_data",
          "data": {
            "text/plain": [
              "<Figure size 600x400 with 2 Axes>"
            ],
            "image/png": "[encoded data removed]"
          },
          "metadata": {}
        },
        {
          "output_type": "display_data",
          "data": {
            "text/plain": [
              "<Figure size 600x400 with 2 Axes>"
            ],
            "image/png": "[encoded data removed]"
          },
          "metadata": {}
        }
      ]
    },
    {
      "cell_type": "markdown",
      "source": [
        "1. Confusion Matric pada Decision Tree\n",
        "- True Label 0 = Model yang diprediksi benar sebanyak 2931, lalu terdapat 36 data yang salah prediksi yang harus 0 jadi 1. Selain itu juga terdapat 2 data yang harusnya 0 menjadi 2\n",
        "\n",
        "- True Label 1 = Model yang diprediksi benar sebagai 1 adalah 977. Namun terdapat kesalahan prediksi sebanyak 41 data menjadi 0, dan kesalahan prediksi 19 data jadi 2\n",
        "\n",
        "- True Label 2 = Model yang benar diprediksi hanya 955 data. Sedangkan terdapat 12 data jadi 1 dan 2 menjadi 0"
      ],
      "metadata": {
        "id": "NgF10ymXQAt1"
      }
    },
    {
      "cell_type": "markdown",
      "source": [
        "2. Confudion Matrics pada Random Forest\n",
        "- True Label 0 = Terdapat 2956 data yang benar diprediksi sbagai 0. Lalu, Terdapat 11 data yang salah prediksi yang harus nya 0 menjadi 1, sedangkan terdapat 3 data yang diprediksi menjadi 2\n",
        "\n",
        "- True Label 1 = Terdapat 1010 data yang diprediksi benar menjadi 1, sedangkan terdapat 20 data yang diprediksi salah menjadi 0. dan terdapat 7 data yang diprediksi salah menjadi 2\n",
        "\n",
        "- True Label 2 = Terdapat 959 data yang diprediksi benar menjadi 2, namun terdapat 2 data yang salah karena diprediksi sebagai 0, sedangkan data yang diprediksi salah sebagai 1"
      ],
      "metadata": {
        "id": "R_fxa25yRHmV"
      }
    },
    {
      "cell_type": "code",
      "source": [],
      "metadata": {
        "id": "zAB5BynmQAG2"
      },
      "execution_count": null,
      "outputs": []
    },
    {
      "cell_type": "markdown",
      "source": [
        "## **c. Tuning Model Klasifikasi (RandomizedSearchCV)**\n",
        "\n",
        "---\n",
        "\n"
      ],
      "metadata": {
        "id": "ph9yIYDXEPuB"
      }
    },
    {
      "cell_type": "markdown",
      "source": [],
      "metadata": {
        "id": "-Bikx3LINv5e"
      }
    },
    {
      "cell_type": "code",
      "source": [
        "# Parameter\n",
        "param_dist = {\n",
        "    'criterion': ['gini', 'entropy'],\n",
        "    'max_depth': [None, 10, 20, 30],\n",
        "    'min_samples_split': [2, 5, 10],\n",
        "    'min_samples_leaf': [1, 2, 4],\n",
        "    'max_features': ['sqrt', 'log2', None],\n",
        "    'splitter': ['best', 'random'],\n",
        "}\n",
        "\n",
        "# Untuk inisialiasi\n",
        "random_search = RandomizedSearchCV(\n",
        "    estimator=dt_model, param_distributions=param_dist,\n",
        "    n_iter=5, cv=3, n_jobs=-1, verbose=2, random_state=42\n",
        ")\n",
        "\n",
        "# Mencatat waktu mulai\n",
        "start_time = time.time()\n",
        "\n",
        "# fit kan model\n",
        "random_search.fit(X_train, y_train)\n",
        "\n",
        "# Output\n",
        "print(f\"Best parameters (Randomized Search): {random_search.best_params_}\")\n",
        "best_dt_random = random_search.best_estimator_\n",
        "\n",
        "# Evaluasi\n",
        "y_pred_random_dt = best_dt_random.predict(X_test)\n",
        "random_search_mse = mean_squared_error(y_test, y_pred_random_dt)\n",
        "print(f\"MSE after Randomized Search: {random_search_mse:.2f}\")\n",
        "\n",
        "# Mencatat waktu selesai\n",
        "end_time = time.time()\n",
        "execution_time = end_time - start_time  # Menghitung selisih waktu\n",
        "print(f\"Waktu eksekusi: {execution_time:.4f} detik\")"
      ],
      "metadata": {
        "id": "winbFzb8NL95",
        "colab": {
          "base_uri": "https://localhost:8080/"
        },
        "outputId": "5d7b1134-6984-4c33-e346-d5abf4d183a4"
      },
      "execution_count": 42,
      "outputs": [
        {
          "output_type": "stream",
          "name": "stdout",
          "text": [
            "Fitting 3 folds for each of 5 candidates, totalling 15 fits\n",
            "Best parameters (Randomized Search): {'splitter': 'best', 'min_samples_split': 10, 'min_samples_leaf': 2, 'max_features': None, 'max_depth': 30, 'criterion': 'entropy'}\n",
            "MSE after Randomized Search: 0.03\n",
            "Waktu eksekusi: 4.7785 detik\n"
          ]
        }
      ]
    },
    {
      "cell_type": "code",
      "source": [
        "# Parameter\n",
        "param_dist = {\n",
        "    'criterion': ['gini', 'entropy'],\n",
        "    'max_depth': [None, 10, 20, 30],\n",
        "    'min_samples_split': [2, 5, 10],\n",
        "    'min_samples_leaf': [1, 2, 4],\n",
        "    'max_features': ['sqrt', 'log2', None],\n",
        "\n",
        "}\n",
        "\n",
        "# Untuk inisialiasi\n",
        "random_search = RandomizedSearchCV(\n",
        "    estimator=rf_model, param_distributions=param_dist,\n",
        "    n_iter=5, cv=3, n_jobs=-1, verbose=2, random_state=42\n",
        ")\n",
        "\n",
        "# Mencatat waktu mulai\n",
        "start_time = time.time()\n",
        "\n",
        "# Fit ka model\n",
        "random_search.fit(X_train, y_train)\n",
        "\n",
        "# Output\n",
        "print(f\"Best parameters (Randomized Search): {random_search.best_params_}\")\n",
        "best_dt_random = random_search.best_estimator_\n",
        "\n",
        "# Evaluasi\n",
        "y_pred_random_rf = best_dt_random.predict(X_test)\n",
        "random_search_mse = mean_squared_error(y_test, y_pred_random_rf)\n",
        "print(f\"MSE after Randomized Search: {random_search_mse:.2f}\")\n",
        "\n",
        "# Mencatat waktu selesai\n",
        "end_time = time.time()\n",
        "execution_time = end_time - start_time  # Menghitung selisih waktu\n",
        "print(f\"Waktu eksekusi: {execution_time:.4f} detik\")"
      ],
      "metadata": {
        "colab": {
          "base_uri": "https://localhost:8080/"
        },
        "id": "EhbIKFNoWuNY",
        "outputId": "b3997804-ffbb-409b-d75d-1086b37456b7"
      },
      "execution_count": 43,
      "outputs": [
        {
          "output_type": "stream",
          "name": "stdout",
          "text": [
            "Fitting 3 folds for each of 5 candidates, totalling 15 fits\n",
            "Best parameters (Randomized Search): {'min_samples_split': 2, 'min_samples_leaf': 2, 'max_features': 'log2', 'max_depth': 30, 'criterion': 'entropy'}\n",
            "MSE after Randomized Search: 0.01\n",
            "Waktu eksekusi: 89.6869 detik\n"
          ]
        }
      ]
    },
    {
      "cell_type": "markdown",
      "source": [
        "Hasil Model Tuning\n",
        "\n",
        "1. Decision Tree:\n",
        "-  Hasil MSE nya adalah 0.03 bahwa model memiliki akurasi yang baik dengan kesalahan prediksi yang rendah\n",
        "- Hasil eksekusi adalah 1.39 detik\n",
        "\n",
        "2. Random Forest:\n",
        "- Hasil MSE adalah 0.01 menunjukan akurasi yag sangat tinggi dan kesalahn prediksi sangat rendah\n",
        "- Hasil eksekusi adalah 89.68 detik\n",
        "\n",
        "3. Kesimpulan:\n",
        "- Random Forest menunjukan akurasi yang lebih bai dibandingkan random forest, namun waktu eksekusi nya yang lebih lama"
      ],
      "metadata": {
        "id": "pcFWWCMWX54R"
      }
    },
    {
      "cell_type": "markdown",
      "source": [
        "## **d. Evaluasi Model Klasifikasi setelah Tuning (Optional)**"
      ],
      "metadata": {
        "id": "hE7pqlEPEYzI"
      }
    },
    {
      "cell_type": "code",
      "source": [
        "# Evaluasi model Decision Tree\n",
        "accuracy_dt = accuracy_score(y_test, y_pred_random_dt)\n",
        "precision_dt = precision_score(y_test, y_pred_random_dt, average='macro')  # Ganti 'binary' dengan 'micro', 'macro', atau 'weighted' jika diperlukan\n",
        "recall_dt = recall_score(y_test, y_pred_random_dt, average='macro')  # Sama seperti precision\n",
        "f1_dt = f1_score(y_test, y_pred_random_dt, average='macro')  # Sama seperti precision\n",
        "\n"
      ],
      "metadata": {
        "id": "HTXZRvEeNMb1"
      },
      "execution_count": 49,
      "outputs": []
    },
    {
      "cell_type": "code",
      "source": [
        "# Evaluasi model Random Forest\n",
        "accuracy_rf = accuracy_score(y_test, y_pred_random_rf)\n",
        "precision_rf = precision_score(y_test, y_pred_random_rf, average='macro')  # Ganti 'binary' dengan 'micro', 'macro', atau 'weighted' jika diperlukan\n",
        "recall_rf = recall_score(y_test, y_pred_random_rf, average='macro')  # Sama seperti precision\n",
        "f1_rf = f1_score(y_test, y_pred_random_rf, average='macro')  # Sama seperti precision\n"
      ],
      "metadata": {
        "id": "t_UbZ5F2ZRLr"
      },
      "execution_count": 48,
      "outputs": []
    },
    {
      "cell_type": "code",
      "source": [
        "# Membuat DataFrame\n",
        "data = {\n",
        "    'Model': ['Decision Tree', 'Random Forest'],\n",
        "    'Accuracy': [accuracy_dt, accuracy_rf],\n",
        "    'Precision': [precision_dt, precision_rf],\n",
        "    'Recall': [recall_dt, recall_rf],\n",
        "    'F1-Score': [f1_dt, f1_rf]\n",
        "}\n",
        "\n",
        "df_evaluasi = pd.DataFrame(data)\n",
        "\n",
        "# Menampilkan DataFrame\n",
        "print(df_evaluasi)"
      ],
      "metadata": {
        "colab": {
          "base_uri": "https://localhost:8080/"
        },
        "id": "AT5nfxJQZTrS",
        "outputId": "4516a240-717e-4eac-9982-43bbed0b2798"
      },
      "execution_count": 64,
      "outputs": [
        {
          "output_type": "stream",
          "name": "stdout",
          "text": [
            "           Model  Accuracy  Precision    Recall  F1-Score\n",
            "0  Decision Tree  0.977894   0.974059  0.970026  0.972016\n",
            "1  Random Forest  0.991760   0.990788  0.988523  0.989645\n"
          ]
        }
      ]
    },
    {
      "cell_type": "markdown",
      "source": [
        "Hasil evaluasi setelah tunning model adalah Random Forest memiliki score yang paling baik"
      ],
      "metadata": {
        "id": "cUwuOtH-b1Hy"
      }
    },
    {
      "cell_type": "markdown",
      "source": [
        "## **e. Analisis Hasil Evaluasi Model Klasifikasi**"
      ],
      "metadata": {
        "id": "ZRsOdm4uEgAW"
      }
    },
    {
      "cell_type": "code",
      "source": [
        "before_tunning = hasil_metrik.copy()\n",
        "after_tunning = df_evaluasi.copy()"
      ],
      "metadata": {
        "id": "5PMwMAw5cDlx"
      },
      "execution_count": 65,
      "outputs": []
    },
    {
      "cell_type": "code",
      "source": [
        "perbandingan = before_tunning.merge(after_tunning, on=\"Model\", suffixes=('_Before', '_After'))"
      ],
      "metadata": {
        "id": "Url1LTMQdF1I"
      },
      "execution_count": 66,
      "outputs": []
    },
    {
      "cell_type": "code",
      "source": [
        "perbandingan"
      ],
      "metadata": {
        "colab": {
          "base_uri": "https://localhost:8080/",
          "height": 125
        },
        "id": "KYThLksifZNB",
        "outputId": "3a3c9fac-275a-46ee-9d33-9da0ef4e7ec5"
      },
      "execution_count": 74,
      "outputs": [
        {
          "output_type": "execute_result",
          "data": {
            "text/plain": [
              "           Model  Accuracy_Before  Precision_Before  Recall_Before  \\\n",
              "0  Decision Tree         0.977492          0.972400       0.971633   \n",
              "1  Random Forest         0.989751          0.987943       0.986310   \n",
              "\n",
              "   F1-Score_Before  Accuracy_After  Precision_After  Recall_After  \\\n",
              "0         0.972001        0.977894         0.974059      0.970026   \n",
              "1         0.987121        0.991760         0.990788      0.988523   \n",
              "\n",
              "   F1-Score_After  \n",
              "0        0.972016  \n",
              "1        0.989645  "
            ],
            "text/html": [
              "\n",
              "  <div id=\"df-aaa9f605-1860-49ae-be2b-57c15f1cf526\" class=\"colab-df-container\">\n",
              "    <div>\n",
              "<style scoped>\n",
              "    .dataframe tbody tr th:only-of-type {\n",
              "        vertical-align: middle;\n",
              "    }\n",
              "\n",
              "    .dataframe tbody tr th {\n",
              "        vertical-align: top;\n",
              "    }\n",
              "\n",
              "    .dataframe thead th {\n",
              "        text-align: right;\n",
              "    }\n",
              "</style>\n",
              "<table border=\"1\" class=\"dataframe\">\n",
              "  <thead>\n",
              "    <tr style=\"text-align: right;\">\n",
              "      <th></th>\n",
              "      <th>Model</th>\n",
              "      <th>Accuracy_Before</th>\n",
              "      <th>Precision_Before</th>\n",
              "      <th>Recall_Before</th>\n",
              "      <th>F1-Score_Before</th>\n",
              "      <th>Accuracy_After</th>\n",
              "      <th>Precision_After</th>\n",
              "      <th>Recall_After</th>\n",
              "      <th>F1-Score_After</th>\n",
              "    </tr>\n",
              "  </thead>\n",
              "  <tbody>\n",
              "    <tr>\n",
              "      <th>0</th>\n",
              "      <td>Decision Tree</td>\n",
              "      <td>0.977492</td>\n",
              "      <td>0.972400</td>\n",
              "      <td>0.971633</td>\n",
              "      <td>0.972001</td>\n",
              "      <td>0.977894</td>\n",
              "      <td>0.974059</td>\n",
              "      <td>0.970026</td>\n",
              "      <td>0.972016</td>\n",
              "    </tr>\n",
              "    <tr>\n",
              "      <th>1</th>\n",
              "      <td>Random Forest</td>\n",
              "      <td>0.989751</td>\n",
              "      <td>0.987943</td>\n",
              "      <td>0.986310</td>\n",
              "      <td>0.987121</td>\n",
              "      <td>0.991760</td>\n",
              "      <td>0.990788</td>\n",
              "      <td>0.988523</td>\n",
              "      <td>0.989645</td>\n",
              "    </tr>\n",
              "  </tbody>\n",
              "</table>\n",
              "</div>\n",
              "    <div class=\"colab-df-buttons\">\n",
              "\n",
              "  <div class=\"colab-df-container\">\n",
              "    <button class=\"colab-df-convert\" onclick=\"convertToInteractive('df-aaa9f605-1860-49ae-be2b-57c15f1cf526')\"\n",
              "            title=\"Convert this dataframe to an interactive table.\"\n",
              "            style=\"display:none;\">\n",
              "\n",
              "  <svg xmlns=\"http://www.w3.org/2000/svg\" height=\"24px\" viewBox=\"0 -960 960 960\">\n",
              "    <path d=\"M120-120v-720h720v720H120Zm60-500h600v-160H180v160Zm220 220h160v-160H400v160Zm0 220h160v-160H400v160ZM180-400h160v-160H180v160Zm440 0h160v-160H620v160ZM180-180h160v-160H180v160Zm440 0h160v-160H620v160Z\"/>\n",
              "  </svg>\n",
              "    </button>\n",
              "\n",
              "  <style>\n",
              "    .colab-df-container {\n",
              "      display:flex;\n",
              "      gap: 12px;\n",
              "    }\n",
              "\n",
              "    .colab-df-convert {\n",
              "      background-color: #E8F0FE;\n",
              "      border: none;\n",
              "      border-radius: 50%;\n",
              "      cursor: pointer;\n",
              "      display: none;\n",
              "      fill: #1967D2;\n",
              "      height: 32px;\n",
              "      padding: 0 0 0 0;\n",
              "      width: 32px;\n",
              "    }\n",
              "\n",
              "    .colab-df-convert:hover {\n",
              "      background-color: #E2EBFA;\n",
              "      box-shadow: 0px 1px 2px rgba(60, 64, 67, 0.3), 0px 1px 3px 1px rgba(60, 64, 67, 0.15);\n",
              "      fill: #174EA6;\n",
              "    }\n",
              "\n",
              "    .colab-df-buttons div {\n",
              "      margin-bottom: 4px;\n",
              "    }\n",
              "\n",
              "    [theme=dark] .colab-df-convert {\n",
              "      background-color: #3B4455;\n",
              "      fill: #D2E3FC;\n",
              "    }\n",
              "\n",
              "    [theme=dark] .colab-df-convert:hover {\n",
              "      background-color: #434B5C;\n",
              "      box-shadow: 0px 1px 3px 1px rgba(0, 0, 0, 0.15);\n",
              "      filter: drop-shadow(0px 1px 2px rgba(0, 0, 0, 0.3));\n",
              "      fill: #FFFFFF;\n",
              "    }\n",
              "  </style>\n",
              "\n",
              "    <script>\n",
              "      const buttonEl =\n",
              "        document.querySelector('#df-aaa9f605-1860-49ae-be2b-57c15f1cf526 button.colab-df-convert');\n",
              "      buttonEl.style.display =\n",
              "        google.colab.kernel.accessAllowed ? 'block' : 'none';\n",
              "\n",
              "      async function convertToInteractive(key) {\n",
              "        const element = document.querySelector('#df-aaa9f605-1860-49ae-be2b-57c15f1cf526');\n",
              "        const dataTable =\n",
              "          await google.colab.kernel.invokeFunction('convertToInteractive',\n",
              "                                                    [key], {});\n",
              "        if (!dataTable) return;\n",
              "\n",
              "        const docLinkHtml = 'Like what you see? Visit the ' +\n",
              "          '<a target=\"_blank\" href=https://colab.research.google.com/notebooks/data_table.ipynb>data table notebook</a>'\n",
              "          + ' to learn more about interactive tables.';\n",
              "        element.innerHTML = '';\n",
              "        dataTable['output_type'] = 'display_data';\n",
              "        await google.colab.output.renderOutput(dataTable, element);\n",
              "        const docLink = document.createElement('div');\n",
              "        docLink.innerHTML = docLinkHtml;\n",
              "        element.appendChild(docLink);\n",
              "      }\n",
              "    </script>\n",
              "  </div>\n",
              "\n",
              "\n",
              "<div id=\"df-b4679725-0960-409b-b392-8b2b3eadf95b\">\n",
              "  <button class=\"colab-df-quickchart\" onclick=\"quickchart('df-b4679725-0960-409b-b392-8b2b3eadf95b')\"\n",
              "            title=\"Suggest charts\"\n",
              "            style=\"display:none;\">\n",
              "\n",
              "<svg xmlns=\"http://www.w3.org/2000/svg\" height=\"24px\"viewBox=\"0 0 24 24\"\n",
              "     width=\"24px\">\n",
              "    <g>\n",
              "        <path d=\"M19 3H5c-1.1 0-2 .9-2 2v14c0 1.1.9 2 2 2h14c1.1 0 2-.9 2-2V5c0-1.1-.9-2-2-2zM9 17H7v-7h2v7zm4 0h-2V7h2v10zm4 0h-2v-4h2v4z\"/>\n",
              "    </g>\n",
              "</svg>\n",
              "  </button>\n",
              "\n",
              "<style>\n",
              "  .colab-df-quickchart {\n",
              "      --bg-color: #E8F0FE;\n",
              "      --fill-color: #1967D2;\n",
              "      --hover-bg-color: #E2EBFA;\n",
              "      --hover-fill-color: #174EA6;\n",
              "      --disabled-fill-color: #AAA;\n",
              "      --disabled-bg-color: #DDD;\n",
              "  }\n",
              "\n",
              "  [theme=dark] .colab-df-quickchart {\n",
              "      --bg-color: #3B4455;\n",
              "      --fill-color: #D2E3FC;\n",
              "      --hover-bg-color: #434B5C;\n",
              "      --hover-fill-color: #FFFFFF;\n",
              "      --disabled-bg-color: #3B4455;\n",
              "      --disabled-fill-color: #666;\n",
              "  }\n",
              "\n",
              "  .colab-df-quickchart {\n",
              "    background-color: var(--bg-color);\n",
              "    border: none;\n",
              "    border-radius: 50%;\n",
              "    cursor: pointer;\n",
              "    display: none;\n",
              "    fill: var(--fill-color);\n",
              "    height: 32px;\n",
              "    padding: 0;\n",
              "    width: 32px;\n",
              "  }\n",
              "\n",
              "  .colab-df-quickchart:hover {\n",
              "    background-color: var(--hover-bg-color);\n",
              "    box-shadow: 0 1px 2px rgba(60, 64, 67, 0.3), 0 1px 3px 1px rgba(60, 64, 67, 0.15);\n",
              "    fill: var(--button-hover-fill-color);\n",
              "  }\n",
              "\n",
              "  .colab-df-quickchart-complete:disabled,\n",
              "  .colab-df-quickchart-complete:disabled:hover {\n",
              "    background-color: var(--disabled-bg-color);\n",
              "    fill: var(--disabled-fill-color);\n",
              "    box-shadow: none;\n",
              "  }\n",
              "\n",
              "  .colab-df-spinner {\n",
              "    border: 2px solid var(--fill-color);\n",
              "    border-color: transparent;\n",
              "    border-bottom-color: var(--fill-color);\n",
              "    animation:\n",
              "      spin 1s steps(1) infinite;\n",
              "  }\n",
              "\n",
              "  @keyframes spin {\n",
              "    0% {\n",
              "      border-color: transparent;\n",
              "      border-bottom-color: var(--fill-color);\n",
              "      border-left-color: var(--fill-color);\n",
              "    }\n",
              "    20% {\n",
              "      border-color: transparent;\n",
              "      border-left-color: var(--fill-color);\n",
              "      border-top-color: var(--fill-color);\n",
              "    }\n",
              "    30% {\n",
              "      border-color: transparent;\n",
              "      border-left-color: var(--fill-color);\n",
              "      border-top-color: var(--fill-color);\n",
              "      border-right-color: var(--fill-color);\n",
              "    }\n",
              "    40% {\n",
              "      border-color: transparent;\n",
              "      border-right-color: var(--fill-color);\n",
              "      border-top-color: var(--fill-color);\n",
              "    }\n",
              "    60% {\n",
              "      border-color: transparent;\n",
              "      border-right-color: var(--fill-color);\n",
              "    }\n",
              "    80% {\n",
              "      border-color: transparent;\n",
              "      border-right-color: var(--fill-color);\n",
              "      border-bottom-color: var(--fill-color);\n",
              "    }\n",
              "    90% {\n",
              "      border-color: transparent;\n",
              "      border-bottom-color: var(--fill-color);\n",
              "    }\n",
              "  }\n",
              "</style>\n",
              "\n",
              "  <script>\n",
              "    async function quickchart(key) {\n",
              "      const quickchartButtonEl =\n",
              "        document.querySelector('#' + key + ' button');\n",
              "      quickchartButtonEl.disabled = true;  // To prevent multiple clicks.\n",
              "      quickchartButtonEl.classList.add('colab-df-spinner');\n",
              "      try {\n",
              "        const charts = await google.colab.kernel.invokeFunction(\n",
              "            'suggestCharts', [key], {});\n",
              "      } catch (error) {\n",
              "        console.error('Error during call to suggestCharts:', error);\n",
              "      }\n",
              "      quickchartButtonEl.classList.remove('colab-df-spinner');\n",
              "      quickchartButtonEl.classList.add('colab-df-quickchart-complete');\n",
              "    }\n",
              "    (() => {\n",
              "      let quickchartButtonEl =\n",
              "        document.querySelector('#df-b4679725-0960-409b-b392-8b2b3eadf95b button');\n",
              "      quickchartButtonEl.style.display =\n",
              "        google.colab.kernel.accessAllowed ? 'block' : 'none';\n",
              "    })();\n",
              "  </script>\n",
              "</div>\n",
              "\n",
              "  <div id=\"id_24f517f6-ce51-43df-848f-ccad29a73e23\">\n",
              "    <style>\n",
              "      .colab-df-generate {\n",
              "        background-color: #E8F0FE;\n",
              "        border: none;\n",
              "        border-radius: 50%;\n",
              "        cursor: pointer;\n",
              "        display: none;\n",
              "        fill: #1967D2;\n",
              "        height: 32px;\n",
              "        padding: 0 0 0 0;\n",
              "        width: 32px;\n",
              "      }\n",
              "\n",
              "      .colab-df-generate:hover {\n",
              "        background-color: #E2EBFA;\n",
              "        box-shadow: 0px 1px 2px rgba(60, 64, 67, 0.3), 0px 1px 3px 1px rgba(60, 64, 67, 0.15);\n",
              "        fill: #174EA6;\n",
              "      }\n",
              "\n",
              "      [theme=dark] .colab-df-generate {\n",
              "        background-color: #3B4455;\n",
              "        fill: #D2E3FC;\n",
              "      }\n",
              "\n",
              "      [theme=dark] .colab-df-generate:hover {\n",
              "        background-color: #434B5C;\n",
              "        box-shadow: 0px 1px 3px 1px rgba(0, 0, 0, 0.15);\n",
              "        filter: drop-shadow(0px 1px 2px rgba(0, 0, 0, 0.3));\n",
              "        fill: #FFFFFF;\n",
              "      }\n",
              "    </style>\n",
              "    <button class=\"colab-df-generate\" onclick=\"generateWithVariable('perbandingan')\"\n",
              "            title=\"Generate code using this dataframe.\"\n",
              "            style=\"display:none;\">\n",
              "\n",
              "  <svg xmlns=\"http://www.w3.org/2000/svg\" height=\"24px\"viewBox=\"0 0 24 24\"\n",
              "       width=\"24px\">\n",
              "    <path d=\"M7,19H8.4L18.45,9,17,7.55,7,17.6ZM5,21V16.75L18.45,3.32a2,2,0,0,1,2.83,0l1.4,1.43a1.91,1.91,0,0,1,.58,1.4,1.91,1.91,0,0,1-.58,1.4L9.25,21ZM18.45,9,17,7.55Zm-12,3A5.31,5.31,0,0,0,4.9,8.1,5.31,5.31,0,0,0,1,6.5,5.31,5.31,0,0,0,4.9,4.9,5.31,5.31,0,0,0,6.5,1,5.31,5.31,0,0,0,8.1,4.9,5.31,5.31,0,0,0,12,6.5,5.46,5.46,0,0,0,6.5,12Z\"/>\n",
              "  </svg>\n",
              "    </button>\n",
              "    <script>\n",
              "      (() => {\n",
              "      const buttonEl =\n",
              "        document.querySelector('#id_24f517f6-ce51-43df-848f-ccad29a73e23 button.colab-df-generate');\n",
              "      buttonEl.style.display =\n",
              "        google.colab.kernel.accessAllowed ? 'block' : 'none';\n",
              "\n",
              "      buttonEl.onclick = () => {\n",
              "        google.colab.notebook.generateWithVariable('perbandingan');\n",
              "      }\n",
              "      })();\n",
              "    </script>\n",
              "  </div>\n",
              "\n",
              "    </div>\n",
              "  </div>\n"
            ],
            "application/vnd.google.colaboratory.intrinsic+json": {
              "type": "dataframe",
              "variable_name": "perbandingan",
              "summary": "{\n  \"name\": \"perbandingan\",\n  \"rows\": 2,\n  \"fields\": [\n    {\n      \"column\": \"Model\",\n      \"properties\": {\n        \"dtype\": \"string\",\n        \"num_unique_values\": 2,\n        \"samples\": [\n          \"Random Forest\",\n          \"Decision Tree\"\n        ],\n        \"semantic_type\": \"\",\n        \"description\": \"\"\n      }\n    },\n    {\n      \"column\": \"Accuracy_Before\",\n      \"properties\": {\n        \"dtype\": \"number\",\n        \"std\": 0.008668310621458864,\n        \"min\": 0.977491961414791,\n        \"max\": 0.9897508038585209,\n        \"num_unique_values\": 2,\n        \"samples\": [\n          0.9897508038585209,\n          0.977491961414791\n        ],\n        \"semantic_type\": \"\",\n        \"description\": \"\"\n      }\n    },\n    {\n      \"column\": \"Precision_Before\",\n      \"properties\": {\n        \"dtype\": \"number\",\n        \"std\": 0.01099020449346696,\n        \"min\": 0.9724001855840297,\n        \"max\": 0.9879426818319444,\n        \"num_unique_values\": 2,\n        \"samples\": [\n          0.9879426818319444,\n          0.9724001855840297\n        ],\n        \"semantic_type\": \"\",\n        \"description\": \"\"\n      }\n    },\n    {\n      \"column\": \"Recall_Before\",\n      \"properties\": {\n        \"dtype\": \"number\",\n        \"std\": 0.010378286401288343,\n        \"min\": 0.9716327645103296,\n        \"max\": 0.9863098778932239,\n        \"num_unique_values\": 2,\n        \"samples\": [\n          0.9863098778932239,\n          0.9716327645103296\n        ],\n        \"semantic_type\": \"\",\n        \"description\": \"\"\n      }\n    },\n    {\n      \"column\": \"F1-Score_Before\",\n      \"properties\": {\n        \"dtype\": \"number\",\n        \"std\": 0.010691093491546714,\n        \"min\": 0.9720013042872976,\n        \"max\": 0.9871207936996417,\n        \"num_unique_values\": 2,\n        \"samples\": [\n          0.9871207936996417,\n          0.9720013042872976\n        ],\n        \"semantic_type\": \"\",\n        \"description\": \"\"\n      }\n    },\n    {\n      \"column\": \"Accuracy_After\",\n      \"properties\": {\n        \"dtype\": \"number\",\n        \"std\": 0.009805138243945343,\n        \"min\": 0.9778938906752411,\n        \"max\": 0.9917604501607717,\n        \"num_unique_values\": 2,\n        \"samples\": [\n          0.9917604501607717,\n          0.9778938906752411\n        ],\n        \"semantic_type\": \"\",\n        \"description\": \"\"\n      }\n    },\n    {\n      \"column\": \"Precision_After\",\n      \"properties\": {\n        \"dtype\": \"number\",\n        \"std\": 0.011829578186375065,\n        \"min\": 0.9740585643398942,\n        \"max\": 0.9907881142482188,\n        \"num_unique_values\": 2,\n        \"samples\": [\n          0.9907881142482188,\n          0.9740585643398942\n        ],\n        \"semantic_type\": \"\",\n        \"description\": \"\"\n      }\n    },\n    {\n      \"column\": \"Recall_After\",\n      \"properties\": {\n        \"dtype\": \"number\",\n        \"std\": 0.013079836090625767,\n        \"min\": 0.970025678178413,\n        \"max\": 0.988523359771393,\n        \"num_unique_values\": 2,\n        \"samples\": [\n          0.988523359771393,\n          0.970025678178413\n        ],\n        \"semantic_type\": \"\",\n        \"description\": \"\"\n      }\n    },\n    {\n      \"column\": \"F1-Score_After\",\n      \"properties\": {\n        \"dtype\": \"number\",\n        \"std\": 0.012465778136094284,\n        \"min\": 0.9720160239716473,\n        \"max\": 0.9896452964772459,\n        \"num_unique_values\": 2,\n        \"samples\": [\n          0.9896452964772459,\n          0.9720160239716473\n        ],\n        \"semantic_type\": \"\",\n        \"description\": \"\"\n      }\n    }\n  ]\n}"
            }
          },
          "metadata": {},
          "execution_count": 74
        }
      ]
    },
    {
      "cell_type": "markdown",
      "source": [
        "- Random Forest Secara konsisten menunjukan hasil yang lebih baik di setiap metrik evaluasi, baik sebelum tunning atau sesudahnya. Perubahan tunning pada kedua algoritma atau model mengalami peningkatan\n",
        "\n",
        "- Dari keseluruhan analisis, Random Forest memiliki kinerja yang lebih baik dalam semua metrik.\n",
        "\n",
        "- Walaupun Random Forest memiliki kinerja yang baik, namun proses eksekusi random forest jauh lebih lambat dibandingkan dengan Decision Tree"
      ],
      "metadata": {
        "id": "QT9i7-_3jFMq"
      }
    },
    {
      "cell_type": "code",
      "source": [
        "# Prediksi data latih pada kedua algoritma\n",
        "y_train_pred_dt = dt_model.predict(X_train)\n",
        "y_train_pred_rf = rf_model.predict(X_train)\n",
        "hasil_metrik_train_dt = metrik(y_train, y_train_pred_dt, \"Decision Tree (Train)\")\n",
        "hasil_metrik_train_rf = metrik(y_train, y_train_pred_rf, \"Random Forest (Train)\")\n",
        "\n",
        "# Buat df\n",
        "hasil_metrik_train = pd.DataFrame([hasil_metrik_train_dt, hasil_metrik_train_rf])\n",
        "print(\"Hasil Evaluasi pada Data Latih:\")\n",
        "print(hasil_metrik_train)\n"
      ],
      "metadata": {
        "colab": {
          "base_uri": "https://localhost:8080/"
        },
        "id": "ay_-Pe1Tku_G",
        "outputId": "00de3f0a-8939-4deb-cd2b-71dd33ae3010"
      },
      "execution_count": 77,
      "outputs": [
        {
          "output_type": "stream",
          "name": "stdout",
          "text": [
            "Hasil Evaluasi pada Data Latih:\n",
            "                   Model  Accuracy  Precision  Recall  F1-Score\n",
            "0  Decision Tree (Train)       1.0        1.0     1.0       1.0\n",
            "1  Random Forest (Train)       1.0        1.0     1.0       1.0\n"
          ]
        }
      ]
    },
    {
      "cell_type": "code",
      "source": [
        "# Prediksi data uji pada kedua algoritma\n",
        "hasil_metrik_test_dt = metrik(y_test, y_pred_dt, \"Decision Tree (Test)\")\n",
        "\n",
        "hasil_metrik_test_rf = metrik(y_test, y_pred_rf, \"Random Forest (Test)\")\n",
        "\n",
        "# buat df\n",
        "hasil_metrik_test = pd.DataFrame([hasil_metrik_test_dt, hasil_metrik_test_rf])\n",
        "print(\"Hasil Evaluasi pada Data Uji:\")\n",
        "print(hasil_metrik_test)\n"
      ],
      "metadata": {
        "colab": {
          "base_uri": "https://localhost:8080/"
        },
        "id": "nHz7bC3Mk0Gk",
        "outputId": "39e8e2b4-c74d-4949-c961-29bebfb5ea24"
      },
      "execution_count": 78,
      "outputs": [
        {
          "output_type": "stream",
          "name": "stdout",
          "text": [
            "Hasil Evaluasi pada Data Uji:\n",
            "                  Model  Accuracy  Precision    Recall  F1-Score\n",
            "0  Decision Tree (Test)  0.977492   0.972400  0.971633  0.972001\n",
            "1  Random Forest (Test)  0.989751   0.987943  0.986310  0.987121\n"
          ]
        }
      ]
    },
    {
      "cell_type": "code",
      "source": [
        "# gabungan\n",
        "hasil_metrik_gabung = pd.concat([hasil_metrik_train, hasil_metrik_test], ignore_index=True)\n",
        "print(\"Hasil Evaluasi Gabungan:\")\n",
        "print(hasil_metrik_gabung)\n"
      ],
      "metadata": {
        "colab": {
          "base_uri": "https://localhost:8080/"
        },
        "id": "kJfBP-C6k34b",
        "outputId": "bc52c19d-ecff-4398-f66a-f03d1fc88bea"
      },
      "execution_count": 79,
      "outputs": [
        {
          "output_type": "stream",
          "name": "stdout",
          "text": [
            "Hasil Evaluasi Gabungan:\n",
            "                   Model  Accuracy  Precision    Recall  F1-Score\n",
            "0  Decision Tree (Train)  1.000000   1.000000  1.000000  1.000000\n",
            "1  Random Forest (Train)  1.000000   1.000000  1.000000  1.000000\n",
            "2   Decision Tree (Test)  0.977492   0.972400  0.971633  0.972001\n",
            "3   Random Forest (Test)  0.989751   0.987943  0.986310  0.987121\n"
          ]
        }
      ]
    },
    {
      "cell_type": "markdown",
      "source": [
        "Decision Tree menunjukan adanya overfitting karena adanya perbedaan nilai antara data latih dan data uji. Peforma pada data uji sedikit lebih rendah\n",
        "\n",
        "Random Forest menunjukan overfitting, karena peforma pada data uji lebih sedikit dibandigkan dengan data latih"
      ],
      "metadata": {
        "id": "LOX_3vmYlHrI"
      }
    },
    {
      "cell_type": "markdown",
      "source": [
        "Data overfitting, pada Random Forst dapat diatur menggunakan max_depth untuk mengatur kedalam sebuah pohon, lalu pada Random Forest dapat mengatur n_estimamtor nya. Selain itu, dapat menggunakan teknik Cross Validation, dan melakukan data preprocessing secara ulang. Bahkan dapat menggunakan algoritma lain untuk modelling"
      ],
      "metadata": {
        "id": "pD21T3Vml2g3"
      }
    },
    {
      "cell_type": "code",
      "source": [],
      "metadata": {
        "id": "J8uCotY_mVDR"
      },
      "execution_count": null,
      "outputs": []
    }
  ]
}